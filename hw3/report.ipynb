{
 "cells": [
  {
   "attachments": {},
   "cell_type": "markdown",
   "metadata": {},
   "source": [
    "## plot mAP curve of adapted model on the target validation set"
   ]
  },
  {
   "cell_type": "code",
   "execution_count": 2,
   "metadata": {},
   "outputs": [
    {
     "name": "stderr",
     "output_type": "stream",
     "text": [
      "Matplotlib created a temporary config/cache directory at /tmp/matplotlib-y_t7rtxt because the default path (/home/guest/r11922a05/.cache/matplotlib) is not a writable directory; it is highly recommended to set the MPLCONFIGDIR environment variable to a writable directory, in particular to speed up the import of Matplotlib and to better support multiprocessing.\n"
     ]
    }
   ],
   "source": [
    "import os\n",
    "import subprocess\n",
    "import json\n",
    "import re\n",
    "import matplotlib.pyplot as plt\n",
    "from pathlib import Path"
   ]
  },
  {
   "cell_type": "code",
   "execution_count": 15,
   "metadata": {},
   "outputs": [],
   "source": [
    "model_dir = \"./cache/0510/1683687288/\"\n",
    "pred_dir = \"./prediction/0511\"\n",
    "Path(pred_dir).mkdir(parents=True, exist_ok=True)\n",
    "\n",
    "final_iter = 100000\n",
    "begin_iter = 0\n",
    "step = 2000\n",
    "num_check = (final_iter - begin_iter) // step"
   ]
  },
  {
   "cell_type": "code",
   "execution_count": 13,
   "metadata": {},
   "outputs": [
    {
     "name": "stdout",
     "output_type": "stream",
     "text": [
      "Load model from  ./cache/0510/1683687288/model_0096000.pth\n"
     ]
    },
    {
     "name": "stderr",
     "output_type": "stream",
     "text": [
      "  0%|          | 0/300 [00:00<?, ?it/s]/home/guest/r11922a05/anaconda3/envs/cvdpl-hw3-mic/lib/python3.10/site-packages/torch/functional.py:504: UserWarning: torch.meshgrid: in an upcoming release, it will be required to pass the indexing argument. (Triggered internally at /opt/conda/conda-bld/pytorch_1670525552843/work/aten/src/ATen/native/TensorShape.cpp:3190.)\n",
      "  return _VF.meshgrid(tensors, **kwargs)  # type: ignore[attr-defined]\n",
      "100%|██████████| 300/300 [00:59<00:00,  5.01it/s]\n"
     ]
    },
    {
     "name": "stdout",
     "output_type": "stream",
     "text": [
      "====================\n",
      "Load model from  ./cache/0510/1683687288/model_0098000.pth\n"
     ]
    },
    {
     "name": "stderr",
     "output_type": "stream",
     "text": [
      "  0%|          | 0/300 [00:00<?, ?it/s]/home/guest/r11922a05/anaconda3/envs/cvdpl-hw3-mic/lib/python3.10/site-packages/torch/functional.py:504: UserWarning: torch.meshgrid: in an upcoming release, it will be required to pass the indexing argument. (Triggered internally at /opt/conda/conda-bld/pytorch_1670525552843/work/aten/src/ATen/native/TensorShape.cpp:3190.)\n",
      "  return _VF.meshgrid(tensors, **kwargs)  # type: ignore[attr-defined]\n",
      "100%|██████████| 300/300 [00:57<00:00,  5.24it/s]\n"
     ]
    },
    {
     "name": "stdout",
     "output_type": "stream",
     "text": [
      "====================\n",
      "Load model from  ./cache/0510/1683687288/model_final.pth\n"
     ]
    },
    {
     "name": "stderr",
     "output_type": "stream",
     "text": [
      "  0%|          | 0/300 [00:00<?, ?it/s]/home/guest/r11922a05/anaconda3/envs/cvdpl-hw3-mic/lib/python3.10/site-packages/torch/functional.py:504: UserWarning: torch.meshgrid: in an upcoming release, it will be required to pass the indexing argument. (Triggered internally at /opt/conda/conda-bld/pytorch_1670525552843/work/aten/src/ATen/native/TensorShape.cpp:3190.)\n",
      "  return _VF.meshgrid(tensors, **kwargs)  # type: ignore[attr-defined]\n",
      "100%|██████████| 300/300 [01:00<00:00,  4.99it/s]\n"
     ]
    },
    {
     "name": "stdout",
     "output_type": "stream",
     "text": [
      "====================\n"
     ]
    }
   ],
   "source": [
    "for i in range(1, num_check+1):\n",
    "    if i == num_check:\n",
    "        model_path = os.path.join(model_dir, \"model_final.pth\")\n",
    "        pred_path = os.path.join(pred_dir, \"pred_final.json\")\n",
    "    else:\n",
    "        cur_iter = int(begin_iter + i * step)\n",
    "        model_path = os.path.join(model_dir, \"model_{:07d}.pth\".format(cur_iter))\n",
    "        pred_path = os.path.join(pred_dir, \"pred_{:07d}.json\".format(cur_iter))\n",
    "    print(\"Load model from \", model_path)\n",
    "    batcmd = f\"bash hw3_inference.bash hw3_dataset_copy {pred_path} 3 {model_path}\"\n",
    "    subprocess.check_output(batcmd, shell=True)\n",
    "    print(\"=\"*20)"
   ]
  },
  {
   "cell_type": "code",
   "execution_count": 16,
   "metadata": {},
   "outputs": [
    {
     "name": "stdout",
     "output_type": "stream",
     "text": [
      "Load predict json from  ./prediction/0511/pred_0002000.json\n"
     ]
    }
   ],
   "source": [
    "# retrieve the result of each model\n",
    "\n",
    "iter_list = []\n",
    "map_list = []\n",
    "\n",
    "for i in range(1, num_check+1):\n",
    "    if i == num_check:\n",
    "        cur_iter = final_iter\n",
    "        pred_path = os.path.join(pred_dir, \"pred_final.json\")\n",
    "    else:\n",
    "        cur_iter = int(begin_iter + i * step)\n",
    "        pred_path = os.path.join(pred_dir, \"pred_{:07d}.json\".format(cur_iter))\n",
    "    \n",
    "    print(\"Load predict json from \", pred_path)\n",
    "    batcmd = f\"python3 check_your_prediction_valid.py {pred_path} hw3_dataset/fog/val.coco.json\"\n",
    "    result = subprocess.check_output(batcmd, shell=True)\n",
    "    result = result.decode(\"utf-8\").split(\"\\n\")[1].split()[3] #'tensor(XXXX),'\n",
    "    map_50 = float(re.findall(r'\\d+\\.\\d+', result)[0])\n",
    "    print(\"iter: \", cur_iter, \", map_50: \", map_50)\n",
    "    iter_list.append(cur_iter)\n",
    "    map_list.append(map_50)"
   ]
  },
  {
   "cell_type": "code",
   "execution_count": null,
   "metadata": {},
   "outputs": [],
   "source": [
    "plt.plot(iter_list[1:], map_list)\n",
    "\n",
    "# add labels for x and y axis\n",
    "plt.xticks(rotation=45)\n",
    "plt.xlabel(\"number of iterations\")\n",
    "plt.ylabel(\"mAP\")\n",
    "\n",
    "# show the plot\n",
    "plt.show()\n",
    "plt.savefig(\"adapted_model_map_curve.png\")"
   ]
  },
  {
   "attachments": {},
   "cell_type": "markdown",
   "metadata": {},
   "source": [
    "## iter = 40000 "
   ]
  },
  {
   "cell_type": "code",
   "execution_count": 88,
   "metadata": {},
   "outputs": [
    {
     "data": {
      "image/png": "[encoded data removed]",
      "text/plain": [
       "<Figure size 640x480 with 1 Axes>"
      ]
     },
     "metadata": {},
     "output_type": "display_data"
    },
    {
     "data": {
      "text/plain": [
       "<Figure size 640x480 with 0 Axes>"
      ]
     },
     "metadata": {},
     "output_type": "display_data"
    }
   ],
   "source": [
    "plt.plot(iter_list[1:], map_list)\n",
    "\n",
    "# add labels for x and y axis\n",
    "plt.xticks(rotation=45)\n",
    "plt.xlabel(\"number of iterations\")\n",
    "plt.ylabel(\"mAP\")\n",
    "\n",
    "# show the plot\n",
    "plt.show()\n",
    "plt.savefig(\"adapted_model_map_curve.png\")"
   ]
  },
  {
   "attachments": {},
   "cell_type": "markdown",
   "metadata": {},
   "source": [
    "# Check tsv file (backbone)"
   ]
  },
  {
   "cell_type": "code",
   "execution_count": null,
   "metadata": {},
   "outputs": [
    {
     "ename": "ModuleNotFoundError",
     "evalue": "No module named 'pandas.compat'",
     "output_type": "error",
     "traceback": [
      "\u001b[0;31m---------------------------------------------------------------------------\u001b[0m",
      "\u001b[0;31mModuleNotFoundError\u001b[0m                       Traceback (most recent call last)",
      "Cell \u001b[0;32mIn[96], line 1\u001b[0m\n\u001b[0;32m----> 1\u001b[0m \u001b[39mimport\u001b[39;00m \u001b[39mpandas\u001b[39;00m \u001b[39mas\u001b[39;00m \u001b[39mpd\u001b[39;00m\n\u001b[1;32m      3\u001b[0m df \u001b[39m=\u001b[39m pd\u001b[39m.\u001b[39mread_csv(\u001b[39m'\u001b[39m\u001b[39mbackbone_features_adapted_foggy.tsv\u001b[39m\u001b[39m'\u001b[39m, sep\u001b[39m=\u001b[39m\u001b[39m'\u001b[39m\u001b[39m\\t\u001b[39;00m\u001b[39m'\u001b[39m)\n\u001b[1;32m      4\u001b[0m \u001b[39mprint\u001b[39m(df\u001b[39m.\u001b[39mshape)\n",
      "File \u001b[0;32m~/anaconda3/envs/cvdpl-hw3-mic/lib/python3.10/site-packages/pandas/__init__.py:22\u001b[0m\n\u001b[1;32m     19\u001b[0m \u001b[39mdel\u001b[39;00m _hard_dependencies, _dependency, _missing_dependencies\n\u001b[1;32m     21\u001b[0m \u001b[39m# numpy compat\u001b[39;00m\n\u001b[0;32m---> 22\u001b[0m \u001b[39mfrom\u001b[39;00m \u001b[39mpandas\u001b[39;00m\u001b[39m.\u001b[39;00m\u001b[39mcompat\u001b[39;00m \u001b[39mimport\u001b[39;00m is_numpy_dev \u001b[39mas\u001b[39;00m _is_numpy_dev  \u001b[39m# pyright: ignore # noqa:F401\u001b[39;00m\n\u001b[1;32m     24\u001b[0m \u001b[39mtry\u001b[39;00m:\n\u001b[1;32m     25\u001b[0m     \u001b[39mfrom\u001b[39;00m \u001b[39mpandas\u001b[39;00m\u001b[39m.\u001b[39;00m\u001b[39m_libs\u001b[39;00m \u001b[39mimport\u001b[39;00m hashtable \u001b[39mas\u001b[39;00m _hashtable, lib \u001b[39mas\u001b[39;00m _lib, tslib \u001b[39mas\u001b[39;00m _tslib\n",
      "\u001b[0;31mModuleNotFoundError\u001b[0m: No module named 'pandas.compat'"
     ]
    }
   ],
   "source": [
    "import pandas as pd\n",
    "\n",
    "df = pd.read_csv('backbone_features_adapted_foggy.tsv', sep='\\t')\n",
    "print(df.shape)"
   ]
  }
 ],
 "metadata": {
  "kernelspec": {
   "display_name": "cvdpl-hw3-mic",
   "language": "python",
   "name": "python3"
  },
  "language_info": {
   "codemirror_mode": {
    "name": "ipython",
    "version": 3
   },
   "file_extension": ".py",
   "mimetype": "text/x-python",
   "name": "python",
   "nbconvert_exporter": "python",
   "pygments_lexer": "ipython3",
   "version": "3.10.11"
  },
  "orig_nbformat": 4
 },
 "nbformat": 4,
 "nbformat_minor": 2
}
